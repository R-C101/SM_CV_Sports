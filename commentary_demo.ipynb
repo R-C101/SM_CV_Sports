{
 "cells": [
  {
   "cell_type": "code",
   "execution_count": 1,
   "metadata": {},
   "outputs": [
    {
     "name": "stderr",
     "output_type": "stream",
     "text": [
      "/Users/rishit/Documents/Internship/Stealth/llm_commentary/llm_commentary.py:73: LangChainDeprecationWarning: The class `LLMChain` was deprecated in LangChain 0.1.17 and will be removed in 1.0. Use :meth:`~RunnableSequence, e.g., `prompt | llm`` instead.\n",
      "  self.commentary_chain = LLMChain(\n",
      "/Users/rishit/Documents/Internship/Stealth/llm_commentary/llm_commentary.py:110: LangChainDeprecationWarning: The method `Chain.run` was deprecated in langchain 0.1.0 and will be removed in 1.0. Use :meth:`~invoke` instead.\n",
      "  commentary = self.commentary_chain.run(**input_dict)\n"
     ]
    },
    {
     "name": "stdout",
     "output_type": "stream",
     "text": [
      "commentary saved inside output_commentary\n",
      "Generated Commentary: Oh, my heavens! What a moment in this electric Battle of Alberta! Connor McDavid, the generational talent, with a laser from the slot! That's his second of the night, assisted by the maestro Leon Draisaitl. The Oilers' lethal connection strikes again, putting the Flames on the ropes. This is the Oilers' legacy on full display, their offensive brilliance tearing apart the famed Calgary defense. With just over two minutes left, the Flames find themselves in a perilous position. The Oilers are one step closer to silencing the Scotiabank Saddledome and taking a crucial lead in this gripping playoff series.\n"
     ]
    }
   ],
   "source": [
    "from llm_commentary import HockeyCommentaryGenerator\n",
    "commentary_generator = HockeyCommentaryGenerator()\n",
    "    \n",
    "sample_metadata = {\n",
    "    'players': ['Connor McDavid', 'Leon Draisaitl'],\n",
    "    'event_details': {\n",
    "        'type': 'Goal',\n",
    "        'period': 3,\n",
    "        'time_remaining': '2:35',\n",
    "        'location': 'Slot'\n",
    "    },\n",
    "    'game_context': {\n",
    "        'home_team': 'Edmonton Oilers',\n",
    "        'away_team': 'Calgary Flames',\n",
    "        'score': '3-2',\n",
    "        'playoff_game': True\n",
    "    },\n",
    "    'team_histories': (\n",
    "        \"Edmonton Oilers: Multiple Stanley Cup champions with a legacy of offensive powerhouses. \"\n",
    "        \"Calgary Flames: Historic rivals known for intense matchups and defensive strategy.\"\n",
    "    )\n",
    "}\n",
    "\n",
    "# Generate single commentary\n",
    "commentary = commentary_generator.generate_commentary(\n",
    "    players=sample_metadata['players'],\n",
    "    event_details=sample_metadata['event_details'],\n",
    "    game_context=sample_metadata['game_context'],\n",
    "    team_histories=sample_metadata['team_histories']\n",
    ")\n",
    "print(\"Generated Commentary:\", commentary)\n",
    "\n"
   ]
  }
 ],
 "metadata": {
  "kernelspec": {
   "display_name": "Python 3",
   "language": "python",
   "name": "python3"
  },
  "language_info": {
   "codemirror_mode": {
    "name": "ipython",
    "version": 3
   },
   "file_extension": ".py",
   "mimetype": "text/x-python",
   "name": "python",
   "nbconvert_exporter": "python",
   "pygments_lexer": "ipython3",
   "version": "3.11.10"
  }
 },
 "nbformat": 4,
 "nbformat_minor": 2
}
